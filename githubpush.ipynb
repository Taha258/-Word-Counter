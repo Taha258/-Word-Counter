{
  "nbformat": 4,
  "nbformat_minor": 0,
  "metadata": {
    "colab": {
      "provenance": [],
      "authorship_tag": "ABX9TyMFI41C5wA5E9f2PpfuS1ow",
      "include_colab_link": true
    },
    "kernelspec": {
      "name": "python3",
      "display_name": "Python 3"
    },
    "language_info": {
      "name": "python"
    }
  },
  "cells": [
    {
      "cell_type": "markdown",
      "metadata": {
        "id": "view-in-github",
        "colab_type": "text"
      },
      "source": [
        "<a href=\"https://colab.research.google.com/github/Taha258/-Word-Counter/blob/main/githubpush.ipynb\" target=\"_parent\"><img src=\"https://colab.research.google.com/assets/colab-badge.svg\" alt=\"Open In Colab\"/></a>"
      ]
    },
    {
      "cell_type": "code",
      "source": [
        "!git config --global user.email \"muntahahussain258@gmail.com\""
      ],
      "metadata": {
        "id": "xlhZ835zt8eq"
      },
      "execution_count": 5,
      "outputs": []
    },
    {
      "cell_type": "code",
      "source": [
        "!git config --global user.user \"Taha\""
      ],
      "metadata": {
        "id": "-bnOgOwIuIXQ"
      },
      "execution_count": 7,
      "outputs": []
    },
    {
      "cell_type": "code",
      "execution_count": 8,
      "metadata": {
        "id": "zCNmbSMjpMjg"
      },
      "outputs": [],
      "source": [
        "arr = [1,2,3,4,5]\n",
        "print(arr)"
      ]
    }
  ]
}